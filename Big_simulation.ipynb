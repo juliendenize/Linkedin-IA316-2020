{
 "cells": [
  {
   "cell_type": "code",
   "execution_count": 1,
   "metadata": {
    "colab": {},
    "colab_type": "code",
    "id": "moxkSyOkK7DP"
   },
   "outputs": [
    {
     "name": "stderr",
     "output_type": "stream",
     "text": [
      "Using TensorFlow backend.\n"
     ]
    }
   ],
   "source": [
    "from simulations import *\n",
    "from JobOffer import JobOffer\n",
    "from User import User\n",
    "from sklearn.linear_model import LinearRegression\n",
    "from sklearn.ensemble import GradientBoostingRegressor\n",
    "from sklearn.svm import SVR\n",
    "import pickle"
   ]
  },
  {
   "cell_type": "code",
   "execution_count": 2,
   "metadata": {
    "colab": {},
    "colab_type": "code",
    "id": "c6ANNnV4LTe3"
   },
   "outputs": [],
   "source": [
    "dict_agents_evo = {\n",
    "    'random'            : {\"action_size\": 5},\n",
    "    'ML_linear'         : {\"action_size\": 5, \"ML_class\": LinearRegression, \"online_learning\": False},\n",
    "    'ML_linear_online'  : {\"action_size\": 5, \"ML_class\": LinearRegression, \"online_learning\": True},\n",
    "    'ML_gradient'       : {\"action_size\": 5, \"ML_class\": GradientBoostingRegressor, \"parameters\": {}, \"online_learning\": False},\n",
    "    'ML_gradient_online': {\"action_size\": 5, \"ML_class\": GradientBoostingRegressor, \"parameters\": {}, \"online_learning\": True},\n",
    "    'ML_svr'            : {\"action_size\": 5, \"ML_class\": SVR, \"parameters\": {}, \"online_learning\": False},\n",
    "    'ML_svr_online'     : {\"action_size\": 5, \"ML_class\": SVR, \"parameters\": {}, \"online_learning\": True},\n",
    "    'DL_L64'            : {\"action_size\": 5, \"layers\": [64], \"parameters\": {\"verbose\": 0, \"validation_split\": 0.1, \"callbacks\": [EarlyStopping(patience = 10)], \"epochs\": 100, \"batch_size\": 64},\n",
    "                           \"online_learning\": False},\n",
    "    'DL_L64_online'     : {\"action_size\": 5, \"layers\": [64], \"parameters\": {\"verbose\": 0, \"validation_split\": 0.1, \"callbacks\": [EarlyStopping(patience = 10)], \"epochs\": 100, \"batch_size\": 64},\n",
    "                           \"online_learning\": False, },\n",
    "    'DL_L32L32'         : {\"action_size\": 5, \"layers\": [32,32], \"parameters\": {\"verbose\": 0, \"validation_split\": 0.1, \"callbacks\": [EarlyStopping(patience = 10)], \"epochs\": 100, \"batch_size\": 64}, \"online_learning\": False},\n",
    "    'DL_L32L32_online'  : {\"action_size\": 5, \"layers\": [32,32], \"parameters\": {\"verbose\": 0, \"validation_split\": 0.1, \"callbacks\": [EarlyStopping(patience = 10)], \"epochs\": 100,\"batch_size\": 64},\n",
    "                           \"online_learning\": False},\n",
    "    'Dot'               : {\"action_size\": 5},\n",
    "}"
   ]
  },
  {
   "cell_type": "code",
   "execution_count": 0,
   "metadata": {
    "colab": {},
    "colab_type": "code",
    "id": "yN9Tp6yHLL53"
   },
   "outputs": [],
   "source": [
    "dict_agents_none_evo = {\n",
    "    'random'            : {\"action_size\": 5},\n",
    "    'ML_linear'         : {\"action_size\": 5, \"ML_class\": LinearRegression, \"online_learning\": False},\n",
    "    'ML_linear_online'  : {\"action_size\": 5, \"ML_class\": LinearRegression, \"online_learning\": True},\n",
    "    'ML_gradient'       : {\"action_size\": 5, \"ML_class\": GradientBoostingRegressor, \"parameters\": {}, \"online_learning\": False},\n",
    "    'ML_gradient_online': {\"action_size\": 5, \"ML_class\": GradientBoostingRegressor, \"parameters\": {}, \"online_learning\": True},\n",
    "    'ML_svr'            : {\"action_size\": 5, \"ML_class\": SVR, \"parameters\": {}, \"online_learning\": False},\n",
    "    'ML_svr_online'     : {\"action_size\": 5, \"ML_class\": SVR, \"parameters\": {}, \"online_learning\": True},\n",
    "    'DL_L64'            : {\"action_size\": 5, \"layers\": [64], \"parameters\": {\"verbose\": 0, \"validation_split\": 0.1, \"callbacks\": [EarlyStopping(patience = 10)], \"epochs\": 100, \"batch_size\": 64},\n",
    "                           \"online_learning\": False},\n",
    "    'DL_L64_online'     : {\"action_size\": 5, \"layers\": [64], \"parameters\": {\"verbose\": 0, \"validation_split\": 0.1, \"callbacks\": [EarlyStopping(patience = 10)], \"epochs\": 100, \"batch_size\": 64},\n",
    "                           \"online_learning\": False},\n",
    "    'DL_L32L32'         : {\"action_size\": 5, \"layers\": [32,32], \"parameters\": {\"verbose\": 0, \"validation_split\": 0.1, \"callbacks\": [EarlyStopping(patience = 10)], \"epochs\": 100, \"batch_size\": 64},\n",
    "                           \"online_learning\": False},\n",
    "    'DL_L32L32_online'  : {\"action_size\": 5, \"layers\": [32,32], \"parameters\": {\"verbose\": 0, \"validation_split\": 0.1, \"callbacks\": [EarlyStopping(patience = 10)], \"epochs\": 100, \"batch_size\": 64},\n",
    "                           \"online_learning\": False},\n",
    "    'Dot'               : {\"action_size\": 5},\n",
    "    'Embedding'         : {\"action_size\": 5, \"embedding_size\": 6, \"max_user_id\": 29, \"max_item_id\": 29, \"online_learning\": False,\n",
    "                           \"parameters\": {\"verbose\": 0, \"validation_split\": 0.1, \"callbacks\": [EarlyStopping(patience = 10)], \"epochs\": 50, \"batch_size\": 64}},\n",
    "    'Embedding_online'  : {\"action_size\": 5, \"embedding_size\": 6, \"max_user_id\": 29, \"max_item_id\": 29, \"online_learning\": True,\n",
    "                           \"parameters\": {\"verbose\": 0, \"validation_split\": 0.1, \"callbacks\": [EarlyStopping(patience = 10)], \"epochs\": 50, \"batch_size\": 64}}\n",
    "}"
   ]
  },
  {
   "cell_type": "code",
   "execution_count": 3,
   "metadata": {
    "colab": {},
    "colab_type": "code",
    "id": "EBH4N5gLfjtj"
   },
   "outputs": [
    {
     "name": "stdout",
     "output_type": "stream",
     "text": [
      "random started.\n",
      "ML_linear started.\n",
      "ML_linear_online started.\n",
      "ML_gradient started.\n",
      "ML_gradient_online started.\n",
      "ML_svr started.\n",
      "ML_svr_online started.\n",
      "DL_L64 started.\n",
      "DL_L64_online started.\n",
      "DL_L32L32 started.\n",
      "DL_L32L32_online started.\n",
      "Dot started.\n"
     ]
    }
   ],
   "source": [
    "run_several_experiments_several_agents(dict_agents_evo, 5, True, \"./data/data_evolutive\", schools_dictionnary, domains_to_skills_dictionnary,\n",
    "                                       companies, hierarchical_levels, skills, places, nb_exp = 20, nb_steps = 1000,\n",
    "                                       nb_steps_history = 1000)"
   ]
  },
  {
   "cell_type": "code",
   "execution_count": 77,
   "metadata": {
    "colab": {
     "base_uri": "https://localhost:8080/",
     "height": 1000
    },
    "colab_type": "code",
    "id": "k9wv_6xNMgYW",
    "outputId": "51a74f59-ad61-40b7-a647-005378bef774"
   },
   "outputs": [
    {
     "name": "stdout",
     "output_type": "stream",
     "text": [
      "random started.\n",
      "ML_linear started.\n",
      "ML_linear_online started.\n",
      "ML_gradient started.\n",
      "ML_gradient_online started.\n",
      "ML_svr started.\n",
      "ML_svr_online started.\n",
      "DL_L64 started.\n",
      "Simulation 0 started, time elapsed: 0.000 seconds.\n",
      "WARNING:tensorflow:From /usr/local/lib/python3.6/dist-packages/keras/backend/tensorflow_backend.py:66: The name tf.get_default_graph is deprecated. Please use tf.compat.v1.get_default_graph instead.\n",
      "\n",
      "WARNING:tensorflow:From /usr/local/lib/python3.6/dist-packages/keras/backend/tensorflow_backend.py:541: The name tf.placeholder is deprecated. Please use tf.compat.v1.placeholder instead.\n",
      "\n",
      "WARNING:tensorflow:From /usr/local/lib/python3.6/dist-packages/keras/backend/tensorflow_backend.py:4432: The name tf.random_uniform is deprecated. Please use tf.random.uniform instead.\n",
      "\n",
      "WARNING:tensorflow:From /usr/local/lib/python3.6/dist-packages/keras/optimizers.py:793: The name tf.train.Optimizer is deprecated. Please use tf.compat.v1.train.Optimizer instead.\n",
      "\n",
      "WARNING:tensorflow:From /usr/local/lib/python3.6/dist-packages/keras/backend/tensorflow_backend.py:1033: The name tf.assign_add is deprecated. Please use tf.compat.v1.assign_add instead.\n",
      "\n",
      "WARNING:tensorflow:From /usr/local/lib/python3.6/dist-packages/keras/backend/tensorflow_backend.py:1020: The name tf.assign is deprecated. Please use tf.compat.v1.assign instead.\n",
      "\n",
      "WARNING:tensorflow:From /usr/local/lib/python3.6/dist-packages/keras/backend/tensorflow_backend.py:3005: The name tf.Session is deprecated. Please use tf.compat.v1.Session instead.\n",
      "\n",
      "WARNING:tensorflow:From /usr/local/lib/python3.6/dist-packages/keras/backend/tensorflow_backend.py:190: The name tf.get_default_session is deprecated. Please use tf.compat.v1.get_default_session instead.\n",
      "\n",
      "WARNING:tensorflow:From /usr/local/lib/python3.6/dist-packages/keras/backend/tensorflow_backend.py:197: The name tf.ConfigProto is deprecated. Please use tf.compat.v1.ConfigProto instead.\n",
      "\n",
      "WARNING:tensorflow:From /usr/local/lib/python3.6/dist-packages/keras/backend/tensorflow_backend.py:207: The name tf.global_variables is deprecated. Please use tf.compat.v1.global_variables instead.\n",
      "\n",
      "WARNING:tensorflow:From /usr/local/lib/python3.6/dist-packages/keras/backend/tensorflow_backend.py:216: The name tf.is_variable_initialized is deprecated. Please use tf.compat.v1.is_variable_initialized instead.\n",
      "\n",
      "WARNING:tensorflow:From /usr/local/lib/python3.6/dist-packages/keras/backend/tensorflow_backend.py:223: The name tf.variables_initializer is deprecated. Please use tf.compat.v1.variables_initializer instead.\n",
      "\n",
      "Simulation 5 started, time elapsed: 29.872 seconds.\n",
      "Simulation 10 started, time elapsed: 62.872 seconds.\n",
      "Simulation 15 started, time elapsed: 96.764 seconds.\n",
      "DL_L64_online started.\n",
      "Simulation 0 started, time elapsed: 0.000 seconds.\n",
      "Simulation 5 started, time elapsed: 42.802 seconds.\n",
      "Simulation 10 started, time elapsed: 89.712 seconds.\n",
      "Simulation 15 started, time elapsed: 135.338 seconds.\n",
      "DL_L32L32 started.\n",
      "Simulation 0 started, time elapsed: 0.000 seconds.\n",
      "Simulation 5 started, time elapsed: 52.984 seconds.\n",
      "Simulation 10 started, time elapsed: 109.009 seconds.\n",
      "Simulation 15 started, time elapsed: 171.781 seconds.\n",
      "DL_L32L32_online started.\n",
      "Simulation 0 started, time elapsed: 0.000 seconds.\n",
      "Simulation 5 started, time elapsed: 71.654 seconds.\n",
      "Simulation 10 started, time elapsed: 144.109 seconds.\n",
      "Simulation 15 started, time elapsed: 218.944 seconds.\n",
      "Dot started.\n",
      "Simulation 0 started, time elapsed: 0.000 seconds.\n",
      "Simulation 5 started, time elapsed: 9.550 seconds.\n",
      "Simulation 10 started, time elapsed: 19.285 seconds.\n",
      "Simulation 15 started, time elapsed: 29.107 seconds.\n",
      "Embedding started.\n",
      "Simulation 0 started, time elapsed: 0.000 seconds.\n",
      "Simulation 5 started, time elapsed: 103.020 seconds.\n",
      "Simulation 10 started, time elapsed: 208.967 seconds.\n",
      "Simulation 15 started, time elapsed: 316.376 seconds.\n",
      "Embedding_online started.\n",
      "Simulation 0 started, time elapsed: 0.000 seconds.\n",
      "Simulation 5 started, time elapsed: 173.585 seconds.\n",
      "Simulation 10 started, time elapsed: 352.308 seconds.\n",
      "Simulation 15 started, time elapsed: 536.890 seconds.\n"
     ]
    }
   ],
   "source": [
    "run_several_experiments_several_agents(dict_agents_none_evo, 5, False, \"./data/data_non_evolutive\", schools_dictionnary, domains_to_skills_dictionnary,\n",
    "                                       companies, hierarchical_levels, skills, places, nb_exp = 20, nb_steps = 1000,\n",
    "                                       nb_steps_history = 1000)"
   ]
  },
  {
   "cell_type": "code",
   "execution_count": 0,
   "metadata": {
    "colab": {},
    "colab_type": "code",
    "id": "LHBX2QRXPfnZ"
   },
   "outputs": [],
   "source": [
    "with open(os.path.join(\"./data/data_non_evolutive\", f\"_regret_random.pkl\"),\"rb\") as f:\n",
    "    regret = pickle.load(f)\n",
    "\n",
    "with open(os.path.join(\"./data/data_non_evolutive\", f\"_regrets_random.pkl\"),\"rb\") as f:\n",
    "    regrets = pickle.load(f)"
   ]
  },
  {
   "cell_type": "code",
   "execution_count": 44,
   "metadata": {
    "colab": {
     "base_uri": "https://localhost:8080/",
     "height": 295
    },
    "colab_type": "code",
    "id": "q_kJdyaGPtJy",
    "outputId": "d736e0b1-28a8-489a-bf8a-6c94afbb6daa"
   },
   "outputs": [
    {
     "data": {
      "image/png": "[encoded data removed]",
      "text/plain": [
       "<Figure size 432x288 with 1 Axes>"
      ]
     },
     "metadata": {
      "tags": []
     },
     "output_type": "display_data"
    }
   ],
   "source": [
    "plot_regret(regret, regrets)"
   ]
  },
  {
   "cell_type": "code",
   "execution_count": 0,
   "metadata": {
    "colab": {},
    "colab_type": "code",
    "id": "fNd2E_n7dr1n"
   },
   "outputs": [],
   "source": [
    "with open(os.path.join(\"./data/data_non_evolutive\", f\"_regret_Embedding_online.pkl\"),\"rb\") as f:\n",
    "    regret = pickle.load(f)\n",
    "\n",
    "with open(os.path.join(\"./data/data_non_evolutive\", f\"_regrets_Embedding_online.pkl\"),\"rb\") as f:\n",
    "    regrets = pickle.load(f)"
   ]
  },
  {
   "cell_type": "code",
   "execution_count": 82,
   "metadata": {
    "colab": {
     "base_uri": "https://localhost:8080/",
     "height": 295
    },
    "colab_type": "code",
    "id": "l08u884ed3aw",
    "outputId": "dc1bc8da-bb26-4c6a-8dd0-df9bf13711e2"
   },
   "outputs": [
    {
     "data": {
      "image/png": "[encoded data removed]",
      "text/plain": [
       "<Figure size 432x288 with 1 Axes>"
      ]
     },
     "metadata": {
      "tags": []
     },
     "output_type": "display_data"
    }
   ],
   "source": [
    "plot_regret(regret, regrets)"
   ]
  }
 ],
 "metadata": {
  "colab": {
   "collapsed_sections": [],
   "name": "Big simulation.ipynb",
   "provenance": [],
   "toc_visible": true
  },
  "kernelspec": {
   "display_name": "Python 3",
   "language": "python",
   "name": "python3"
  },
  "language_info": {
   "codemirror_mode": {
    "name": "ipython",
    "version": 3
   },
   "file_extension": ".py",
   "mimetype": "text/x-python",
   "name": "python",
   "nbconvert_exporter": "python",
   "pygments_lexer": "ipython3",
   "version": "3.7.5"
  }
 },
 "nbformat": 4,
 "nbformat_minor": 1
}
